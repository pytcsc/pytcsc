{
 "cells": [
  {
   "cell_type": "code",
   "execution_count": 1,
   "id": "19e165c4-3583-444d-b215-10789d3d2426",
   "metadata": {},
   "outputs": [],
   "source": [
    "from sklearn.model_selection import train_test_split\n",
    "from sklearn.ensemble import GradientBoostingRegressor \n",
    "from sklearn.metrics import mean_squared_error\n",
    "from sklearn.preprocessing import StandardScaler \n",
    "import pandas as pd\n"
   ]
  },
  {
   "cell_type": "code",
   "execution_count": 11,
   "id": "13dc36e3-a931-4976-b980-9e569015e0ed",
   "metadata": {},
   "outputs": [
    {
     "name": "stdout",
     "output_type": "stream",
     "text": [
      "         Date   Open   High    Low  Close  Adj Close    Volume\n",
      "0  2010-06-29  3.800  5.000  3.508  4.778      4.778  93831500\n",
      "1  2010-06-30  5.158  6.084  4.660  4.766      4.766  85935500\n",
      "2  2010-07-01  5.000  5.184  4.054  4.392      4.392  41094000\n",
      "3  2010-07-02  4.600  4.620  3.742  3.840      3.840  25699000\n",
      "4  2010-07-06  4.000  4.000  3.166  3.222      3.222  34334500\n"
     ]
    }
   ],
   "source": [
    "data = pd.read_csv(\"TSLA.csv\")\n",
    "print( data.head())\n"
   ]
  },
  {
   "cell_type": "code",
   "execution_count": null,
   "id": "58318f62-6071-40b5-8a91-65cd297ee2c4",
   "metadata": {},
   "outputs": [],
   "source": []
  }
 ],
 "metadata": {
  "kernelspec": {
   "display_name": "Python 3 (ipykernel)",
   "language": "python",
   "name": "python3"
  },
  "language_info": {
   "codemirror_mode": {
    "name": "ipython",
    "version": 3
   },
   "file_extension": ".py",
   "mimetype": "text/x-python",
   "name": "python",
   "nbconvert_exporter": "python",
   "pygments_lexer": "ipython3",
   "version": "3.10.9"
  }
 },
 "nbformat": 4,
 "nbformat_minor": 5
}
